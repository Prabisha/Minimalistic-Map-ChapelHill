{
 "cells": [
  {
   "attachments": {},
   "cell_type": "markdown",
   "metadata": {},
   "source": [
    "#### Minimalistic map of Chapel Hill using Open Street Map "
   ]
  },
  {
   "cell_type": "code",
   "execution_count": null,
   "metadata": {},
   "outputs": [],
   "source": [
    "# Import necessary libraries\n",
    "import matplotlib.pyplot as plt\n",
    "import osmnx as ox\n",
    "from geopy.geocoders import Nominatim\n",
    "from shapely.geometry import Point"
   ]
  },
  {
   "attachments": {},
   "cell_type": "markdown",
   "metadata": {},
   "source": [
    "# **Step 1: Define Parameters for the Map**"
   ]
  },
  {
   "cell_type": "code",
   "execution_count": null,
   "metadata": {},
   "outputs": [],
   "source": [
    "# Specify the city name and buffer distance (in meters) to create a minimalistic map.\n",
    "city_name = \"Chapel Hill, North Carolina\"\n",
    "buffer = 5000  # Buffer distance in meters"
   ]
  },
  {
   "attachments": {},
   "cell_type": "markdown",
   "metadata": {},
   "source": [
    "# **Step 2: Geolocate the City**"
   ]
  },
  {
   "cell_type": "code",
   "execution_count": null,
   "metadata": {},
   "outputs": [],
   "source": [
    "# Use Nominatim to find the latitude and longitude of the city center.\n",
    "geolocator = Nominatim(user_agent=\"OSM_map_ChapelHill\")\n",
    "location = geolocator.geocode(city_name)\n",
    "if not location:\n",
    "    raise ValueError(f\"Could not geocode {city_name}\")\n",
    "\n",
    "# Get latitude and longitude of the city center\n",
    "city_coords = (location.latitude, location.longitude)\n",
    "print(f\"Coordinates for {city_name}: {city_coords}\")\n",
    "\n",
    "# **Step 3: Download the Street Network**\n",
    "# Retrieve the street network around the city center using OpenStreetMap data.\n",
    "graph = ox.graph_from_point(city_coords, dist=buffer, network_type=\"all\", simplify=True)"
   ]
  },
  {
   "attachments": {},
   "cell_type": "markdown",
   "metadata": {},
   "source": [
    "# **Step 4: Convert the Graph to GeoDataFrame**"
   ]
  },
  {
   "cell_type": "code",
   "execution_count": null,
   "metadata": {},
   "outputs": [],
   "source": [
    "# Convert the street network graph to a GeoDataFrame for easier visualization.\n",
    "edges = ox.graph_to_gdfs(graph, nodes=False, edges=True)"
   ]
  },
  {
   "attachments": {},
   "cell_type": "markdown",
   "metadata": {},
   "source": [
    "# **Step 5: Create a Circular Mask for Visualization**"
   ]
  },
  {
   "cell_type": "code",
   "execution_count": null,
   "metadata": {},
   "outputs": [],
   "source": [
    "# Define a circular boundary to filter streets and keep only those within the buffer distance.\n",
    "center = Point(city_coords[1], city_coords[0])  # Longitude, Latitude as Point\n",
    "circle_mask = center.buffer(buffer / 111000)  # Convert buffer from meters to degrees\n",
    "\n",
    "# Filter edges to only include those within the circle\n",
    "edges = edges[edges.intersects(circle_mask)]"
   ]
  },
  {
   "attachments": {},
   "cell_type": "markdown",
   "metadata": {},
   "source": [
    "# **Step 6: Plot the Street Network**"
   ]
  },
  {
   "cell_type": "code",
   "execution_count": null,
   "metadata": {},
   "outputs": [],
   "source": [
    "# Create a minimalistic map with a dark grey background and white streets.\n",
    "fig, ax = plt.subplots(figsize=(10, 10), facecolor=\"darkgrey\")\n",
    "ax.set_facecolor(\"darkgrey\")  # Set background color\n",
    "\n",
    "# Plot streets\n",
    "edges.plot(ax=ax, linewidth=0.5, color=\"white\")\n",
    "\n",
    "# Add the circular mask\n",
    "circle = plt.Circle((city_coords[1], city_coords[0]), buffer / 111000, color=\"darkgrey\", transform=ax.transData)\n",
    "ax.add_artist(circle)\n"
   ]
  },
  {
   "attachments": {},
   "cell_type": "markdown",
   "metadata": {},
   "source": [
    "# **Step 7: Add Title and Clean Up**"
   ]
  },
  {
   "cell_type": "code",
   "execution_count": null,
   "metadata": {},
   "outputs": [],
   "source": [
    "# Remove axes, set the title, and display the final map.\n",
    "ax.set_title(f\"Minimalistic Map of {city_name}\", fontsize=14, color=\"white\")\n",
    "ax.set_axis_off()\n",
    "\n",
    "# Show the plot\n",
    "plt.show()"
   ]
  }
 ],
 "metadata": {
  "language_info": {
   "name": "python"
  },
  "orig_nbformat": 4
 },
 "nbformat": 4,
 "nbformat_minor": 2
}
